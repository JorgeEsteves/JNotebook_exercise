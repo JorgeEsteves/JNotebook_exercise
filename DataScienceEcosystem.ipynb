{
 "cells": [
  {
   "cell_type": "markdown",
   "id": "9f149af0-f59a-40ad-81c3-a740509ab31a",
   "metadata": {},
   "source": [
    "## Author\n",
    "Jorge Esteves"
   ]
  },
  {
   "cell_type": "markdown",
   "id": "432ea2e4-0fe7-415e-a437-2b2c5d8831e7",
   "metadata": {
    "jp-MarkdownHeadingCollapsed": true
   },
   "source": [
    "In this notebook, Data Science Tools and Ecosystem are sumarized"
   ]
  },
  {
   "cell_type": "markdown",
   "id": "db3b296c-3dc1-45c6-9535-8379a7e03dd0",
   "metadata": {},
   "source": [
    "**Objectives**\n",
    "* Program languages\n",
    "    * Python\n",
    "    * R\n",
    "* Libraries\n",
    "    * Pandas\n",
    "    * NumPy\n",
    "    * Matplotlib\n",
    "* Tools\n",
    "    * Jupyter Notebook\n",
    "    * RStudio"
   ]
  },
  {
   "cell_type": "code",
   "execution_count": 39,
   "id": "9d928905-debf-4d07-b313-a7cc87d34b82",
   "metadata": {},
   "outputs": [
    {
     "data": {
      "text/plain": [
       "3.3333333333333335"
      ]
     },
     "execution_count": 39,
     "metadata": {},
     "output_type": "execute_result"
    }
   ],
   "source": [
    "#This will convert 200 minutes to hours by dividingby 60\n",
    "200/60"
   ]
  },
  {
   "cell_type": "code",
   "execution_count": 41,
   "id": "8cf657a0-5c19-4019-b651-6fd5ba438fe5",
   "metadata": {},
   "outputs": [
    {
     "data": {
      "text/plain": [
       "17"
      ]
     },
     "execution_count": 41,
     "metadata": {},
     "output_type": "execute_result"
    }
   ],
   "source": [
    "# This is a simple arithmetic expression to multiply then add integers\n",
    "(3*4)+5"
   ]
  },
  {
   "cell_type": "markdown",
   "id": "275abcd7-b4ca-437e-9657-e4403c0bd478",
   "metadata": {},
   "source": [
    "Below are a few examples of evaluatingaritmetic expressions in Python"
   ]
  },
  {
   "cell_type": "markdown",
   "id": "e29d6c5d-cbd8-4949-96bc-9e1262974148",
   "metadata": {},
   "source": [
    "|Data Science Tools|\n",
    "|------------------|\n",
    "|Jupyter Notebook|\n",
    "|RStudio|\n",
    "|Visual Studio Code|\n"
   ]
  },
  {
   "cell_type": "markdown",
   "id": "5f99bd03-f272-45fe-a7de-6407e4f715d2",
   "metadata": {},
   "source": [
    "Some of the commonly used libraries used by Data Scientists include:\n",
    "1. NumPy\n",
    "2. Pandas\n",
    "3. Matplotlib\n",
    "4. TnsorFlow\n",
    "5. Scikit-learn\n",
    "   "
   ]
  },
  {
   "cell_type": "markdown",
   "id": "4b7d635a-26c1-4083-b772-a114df69ccb6",
   "metadata": {
    "jp-MarkdownHeadingCollapsed": true
   },
   "source": [
    "Some of the popular languages that Data Scientists use are:\n",
    "1. Python\n",
    "2. R\n",
    "3. SQL\n",
    "4. Julia\n",
    "5. Java\n",
    "   \n"
   ]
  },
  {
   "cell_type": "markdown",
   "id": "211f6edb-72c9-413e-be16-433e53eddc4f",
   "metadata": {},
   "source": [
    "# Data Science Tools and Ecosystem"
   ]
  }
 ],
 "metadata": {
  "kernelspec": {
   "display_name": "Python 3 (ipykernel)",
   "language": "python",
   "name": "python3"
  },
  "language_info": {
   "codemirror_mode": {
    "name": "ipython",
    "version": 3
   },
   "file_extension": ".py",
   "mimetype": "text/x-python",
   "name": "python",
   "nbconvert_exporter": "python",
   "pygments_lexer": "ipython3",
   "version": "3.12.4"
  }
 },
 "nbformat": 4,
 "nbformat_minor": 5
}
